{
 "cells": [
  {
   "cell_type": "code",
   "execution_count": 2,
   "id": "6c444db1-d68b-4a8c-a87a-6641c26aea61",
   "metadata": {},
   "outputs": [],
   "source": [
    "import numpy as np\n",
    "import pandas as pd \n",
    "import matplotlib.pyplot as plt "
   ]
  },
  {
   "cell_type": "code",
   "execution_count": 5,
   "id": "bbe7b6ad-d6ef-455a-bd77-389b0a50520f",
   "metadata": {},
   "outputs": [
    {
     "data": {
      "text/html": [
       "<div>\n",
       "<style scoped>\n",
       "    .dataframe tbody tr th:only-of-type {\n",
       "        vertical-align: middle;\n",
       "    }\n",
       "\n",
       "    .dataframe tbody tr th {\n",
       "        vertical-align: top;\n",
       "    }\n",
       "\n",
       "    .dataframe thead th {\n",
       "        text-align: right;\n",
       "    }\n",
       "</style>\n",
       "<table border=\"1\" class=\"dataframe\">\n",
       "  <thead>\n",
       "    <tr style=\"text-align: right;\">\n",
       "      <th></th>\n",
       "      <th>x</th>\n",
       "      <th>y</th>\n",
       "    </tr>\n",
       "  </thead>\n",
       "  <tbody>\n",
       "    <tr>\n",
       "      <th>0</th>\n",
       "      <td>1.525020</td>\n",
       "      <td>2.036859</td>\n",
       "    </tr>\n",
       "    <tr>\n",
       "      <th>1</th>\n",
       "      <td>0.171863</td>\n",
       "      <td>-0.281552</td>\n",
       "    </tr>\n",
       "    <tr>\n",
       "      <th>2</th>\n",
       "      <td>-1.260426</td>\n",
       "      <td>-0.631573</td>\n",
       "    </tr>\n",
       "    <tr>\n",
       "      <th>3</th>\n",
       "      <td>-0.209165</td>\n",
       "      <td>-0.032926</td>\n",
       "    </tr>\n",
       "    <tr>\n",
       "      <th>4</th>\n",
       "      <td>0.919113</td>\n",
       "      <td>0.093448</td>\n",
       "    </tr>\n",
       "    <tr>\n",
       "      <th>5</th>\n",
       "      <td>-1.034714</td>\n",
       "      <td>1.238871</td>\n",
       "    </tr>\n",
       "    <tr>\n",
       "      <th>6</th>\n",
       "      <td>-1.678200</td>\n",
       "      <td>0.726650</td>\n",
       "    </tr>\n",
       "    <tr>\n",
       "      <th>7</th>\n",
       "      <td>-0.064145</td>\n",
       "      <td>0.195072</td>\n",
       "    </tr>\n",
       "    <tr>\n",
       "      <th>8</th>\n",
       "      <td>-0.231611</td>\n",
       "      <td>-1.286018</td>\n",
       "    </tr>\n",
       "    <tr>\n",
       "      <th>9</th>\n",
       "      <td>1.529152</td>\n",
       "      <td>0.343708</td>\n",
       "    </tr>\n",
       "    <tr>\n",
       "      <th>10</th>\n",
       "      <td>-0.217890</td>\n",
       "      <td>0.106352</td>\n",
       "    </tr>\n",
       "    <tr>\n",
       "      <th>11</th>\n",
       "      <td>0.616129</td>\n",
       "      <td>-0.213520</td>\n",
       "    </tr>\n",
       "    <tr>\n",
       "      <th>12</th>\n",
       "      <td>-0.481311</td>\n",
       "      <td>0.220816</td>\n",
       "    </tr>\n",
       "    <tr>\n",
       "      <th>13</th>\n",
       "      <td>-1.474774</td>\n",
       "      <td>-2.668544</td>\n",
       "    </tr>\n",
       "    <tr>\n",
       "      <th>14</th>\n",
       "      <td>0.086016</td>\n",
       "      <td>-0.035865</td>\n",
       "    </tr>\n",
       "    <tr>\n",
       "      <th>15</th>\n",
       "      <td>1.564557</td>\n",
       "      <td>1.197814</td>\n",
       "    </tr>\n",
       "    <tr>\n",
       "      <th>16</th>\n",
       "      <td>0.440524</td>\n",
       "      <td>0.618356</td>\n",
       "    </tr>\n",
       "    <tr>\n",
       "      <th>17</th>\n",
       "      <td>1.062991</td>\n",
       "      <td>-0.493459</td>\n",
       "    </tr>\n",
       "    <tr>\n",
       "      <th>18</th>\n",
       "      <td>-1.482226</td>\n",
       "      <td>0.679765</td>\n",
       "    </tr>\n",
       "    <tr>\n",
       "      <th>19</th>\n",
       "      <td>0.054764</td>\n",
       "      <td>0.623589</td>\n",
       "    </tr>\n",
       "    <tr>\n",
       "      <th>20</th>\n",
       "      <td>-1.016499</td>\n",
       "      <td>-2.388776</td>\n",
       "    </tr>\n",
       "    <tr>\n",
       "      <th>21</th>\n",
       "      <td>0.663761</td>\n",
       "      <td>-1.095105</td>\n",
       "    </tr>\n",
       "    <tr>\n",
       "      <th>22</th>\n",
       "      <td>-0.999655</td>\n",
       "      <td>-0.725507</td>\n",
       "    </tr>\n",
       "    <tr>\n",
       "      <th>23</th>\n",
       "      <td>0.342274</td>\n",
       "      <td>1.156673</td>\n",
       "    </tr>\n",
       "    <tr>\n",
       "      <th>24</th>\n",
       "      <td>1.373638</td>\n",
       "      <td>-0.365083</td>\n",
       "    </tr>\n",
       "    <tr>\n",
       "      <th>25</th>\n",
       "      <td>-1.332307</td>\n",
       "      <td>-2.222994</td>\n",
       "    </tr>\n",
       "    <tr>\n",
       "      <th>26</th>\n",
       "      <td>1.422345</td>\n",
       "      <td>0.651127</td>\n",
       "    </tr>\n",
       "    <tr>\n",
       "      <th>27</th>\n",
       "      <td>-1.537687</td>\n",
       "      <td>-0.972866</td>\n",
       "    </tr>\n",
       "    <tr>\n",
       "      <th>28</th>\n",
       "      <td>1.284070</td>\n",
       "      <td>0.974649</td>\n",
       "    </tr>\n",
       "    <tr>\n",
       "      <th>29</th>\n",
       "      <td>-1.096578</td>\n",
       "      <td>-0.515000</td>\n",
       "    </tr>\n",
       "    <tr>\n",
       "      <th>30</th>\n",
       "      <td>-1.107242</td>\n",
       "      <td>0.406430</td>\n",
       "    </tr>\n",
       "    <tr>\n",
       "      <th>31</th>\n",
       "      <td>1.360594</td>\n",
       "      <td>0.995537</td>\n",
       "    </tr>\n",
       "    <tr>\n",
       "      <th>32</th>\n",
       "      <td>0.307848</td>\n",
       "      <td>-0.572878</td>\n",
       "    </tr>\n",
       "    <tr>\n",
       "      <th>33</th>\n",
       "      <td>0.673778</td>\n",
       "      <td>1.388657</td>\n",
       "    </tr>\n",
       "    <tr>\n",
       "      <th>34</th>\n",
       "      <td>-0.648631</td>\n",
       "      <td>-0.641148</td>\n",
       "    </tr>\n",
       "    <tr>\n",
       "      <th>35</th>\n",
       "      <td>-0.073110</td>\n",
       "      <td>-0.007716</td>\n",
       "    </tr>\n",
       "    <tr>\n",
       "      <th>36</th>\n",
       "      <td>0.875414</td>\n",
       "      <td>1.007187</td>\n",
       "    </tr>\n",
       "    <tr>\n",
       "      <th>37</th>\n",
       "      <td>-1.500298</td>\n",
       "      <td>-0.476072</td>\n",
       "    </tr>\n",
       "    <tr>\n",
       "      <th>38</th>\n",
       "      <td>-0.276873</td>\n",
       "      <td>1.243726</td>\n",
       "    </tr>\n",
       "    <tr>\n",
       "      <th>39</th>\n",
       "      <td>1.361995</td>\n",
       "      <td>0.745031</td>\n",
       "    </tr>\n",
       "    <tr>\n",
       "      <th>40</th>\n",
       "      <td>-0.303585</td>\n",
       "      <td>0.119213</td>\n",
       "    </tr>\n",
       "    <tr>\n",
       "      <th>41</th>\n",
       "      <td>-0.207090</td>\n",
       "      <td>-0.823066</td>\n",
       "    </tr>\n",
       "    <tr>\n",
       "      <th>42</th>\n",
       "      <td>0.663492</td>\n",
       "      <td>-0.232806</td>\n",
       "    </tr>\n",
       "    <tr>\n",
       "      <th>43</th>\n",
       "      <td>-0.065320</td>\n",
       "      <td>-0.087057</td>\n",
       "    </tr>\n",
       "  </tbody>\n",
       "</table>\n",
       "</div>"
      ],
      "text/plain": [
       "           x         y\n",
       "0   1.525020  2.036859\n",
       "1   0.171863 -0.281552\n",
       "2  -1.260426 -0.631573\n",
       "3  -0.209165 -0.032926\n",
       "4   0.919113  0.093448\n",
       "5  -1.034714  1.238871\n",
       "6  -1.678200  0.726650\n",
       "7  -0.064145  0.195072\n",
       "8  -0.231611 -1.286018\n",
       "9   1.529152  0.343708\n",
       "10 -0.217890  0.106352\n",
       "11  0.616129 -0.213520\n",
       "12 -0.481311  0.220816\n",
       "13 -1.474774 -2.668544\n",
       "14  0.086016 -0.035865\n",
       "15  1.564557  1.197814\n",
       "16  0.440524  0.618356\n",
       "17  1.062991 -0.493459\n",
       "18 -1.482226  0.679765\n",
       "19  0.054764  0.623589\n",
       "20 -1.016499 -2.388776\n",
       "21  0.663761 -1.095105\n",
       "22 -0.999655 -0.725507\n",
       "23  0.342274  1.156673\n",
       "24  1.373638 -0.365083\n",
       "25 -1.332307 -2.222994\n",
       "26  1.422345  0.651127\n",
       "27 -1.537687 -0.972866\n",
       "28  1.284070  0.974649\n",
       "29 -1.096578 -0.515000\n",
       "30 -1.107242  0.406430\n",
       "31  1.360594  0.995537\n",
       "32  0.307848 -0.572878\n",
       "33  0.673778  1.388657\n",
       "34 -0.648631 -0.641148\n",
       "35 -0.073110 -0.007716\n",
       "36  0.875414  1.007187\n",
       "37 -1.500298 -0.476072\n",
       "38 -0.276873  1.243726\n",
       "39  1.361995  0.745031\n",
       "40 -0.303585  0.119213\n",
       "41 -0.207090 -0.823066\n",
       "42  0.663492 -0.232806\n",
       "43 -0.065320 -0.087057"
      ]
     },
     "execution_count": 5,
     "metadata": {},
     "output_type": "execute_result"
    }
   ],
   "source": [
    "df = pd.read_csv('data_for_lr.csv')\n",
    "df = (df - df.mean())/df.std()\n",
    "df"
   ]
  },
  {
   "cell_type": "code",
   "execution_count": 6,
   "id": "9ab89f26-a26d-4684-a290-cec785c6c65e",
   "metadata": {},
   "outputs": [
    {
     "data": {
      "text/plain": [
       "<matplotlib.collections.PathCollection at 0x7f0f6fbf4160>"
      ]
     },
     "execution_count": 6,
     "metadata": {},
     "output_type": "execute_result"
    },
    {
     "data": {
      "image/png": "[encoded data removed]",
      "text/plain": [
       "<Figure size 640x480 with 1 Axes>"
      ]
     },
     "metadata": {},
     "output_type": "display_data"
    }
   ],
   "source": [
    "plt.scatter(df.x, df.y)"
   ]
  },
  {
   "cell_type": "code",
   "execution_count": 12,
   "id": "ae7b8e6d-b78f-4660-b365-6fe0669781b3",
   "metadata": {},
   "outputs": [],
   "source": [
    "x = df.x.values\n",
    "y = df.y.values\n",
    "length = len(x)"
   ]
  },
  {
   "cell_type": "code",
   "execution_count": 14,
   "id": "cce4bcd6-5d60-4c90-a1df-45d166e9985a",
   "metadata": {},
   "outputs": [
    {
     "data": {
      "text/plain": [
       "array([ 1.52502002,  0.17186331, -1.26042638, -0.20916454,  0.91911271,\n",
       "       -1.03471384, -1.67819952, -0.06414494, -0.23161133,  1.52915225,\n",
       "       -0.21789035,  0.61612918, -0.4813107 , -1.47477446,  0.08601588,\n",
       "        1.56455664,  0.44052446,  1.06299055, -1.48222575,  0.05476363,\n",
       "       -1.01649885,  0.66376098, -0.99965463,  0.34227371,  1.37363778,\n",
       "       -1.33230722,  1.42234496, -1.5376872 ,  1.28406969, -1.09657776,\n",
       "       -1.10724189,  1.36059389,  0.30784844,  0.6737779 , -0.64863106,\n",
       "       -0.07310972,  0.87541399, -1.50029802, -0.27687333,  1.36199453,\n",
       "       -0.30358511, -0.20709013,  0.66349214, -0.06531989])"
      ]
     },
     "execution_count": 14,
     "metadata": {},
     "output_type": "execute_result"
    }
   ],
   "source": [
    "x"
   ]
  },
  {
   "cell_type": "code",
   "execution_count": 15,
   "id": "24ac7002-7cce-4a52-86b5-23305ba188bf",
   "metadata": {},
   "outputs": [],
   "source": [
    "x_mean = np.mean(x)\n",
    "y_mean = np.mean(y)"
   ]
  },
  {
   "cell_type": "code",
   "execution_count": 20,
   "id": "53b1e565-5e1e-44e3-95dc-7e20db54c002",
   "metadata": {},
   "outputs": [
    {
     "name": "stdout",
     "output_type": "stream",
     "text": [
      "Slope 0.4750982141319591  intercept 1.1500633682692234e-15\n"
     ]
    }
   ],
   "source": [
    "numerator = 0\n",
    "denominator = 0 \n",
    "\n",
    "for i in range(length):\n",
    "    numerator += (x[i] - x_mean) * (y[i] - y_mean)\n",
    "    denominator += (x[i] - x_mean) ** 2\n",
    "\n",
    "slope = numerator / denominator \n",
    "intercept = (y_mean - (slope * x_mean))\n",
    "\n",
    "print(\"Slope\", slope, \" intercept\", intercept)"
   ]
  },
  {
   "cell_type": "code",
   "execution_count": 23,
   "id": "cb0a7ce0-f27d-4c9f-99b0-55f4c5259229",
   "metadata": {},
   "outputs": [
    {
     "data": {
      "text/plain": [
       "array([ 1.56455664,  1.4891437 ,  1.41373077,  1.33831784,  1.2629049 ,\n",
       "        1.18749197,  1.11207903,  1.0366661 ,  0.96125317,  0.88584023,\n",
       "        0.8104273 ,  0.73501436,  0.65960143,  0.5841885 ,  0.50877556,\n",
       "        0.43336263,  0.35794969,  0.28253676,  0.20712383,  0.13171089,\n",
       "        0.05629796, -0.01911498, -0.09452791, -0.16994084, -0.24535378,\n",
       "       -0.32076671, -0.39617965, -0.47159258, -0.54700551, -0.62241845,\n",
       "       -0.69783138, -0.77324432, -0.84865725, -0.92407018, -0.99948312,\n",
       "       -1.07489605, -1.15030899, -1.22572192, -1.30113485, -1.37654779,\n",
       "       -1.45196072, -1.52737366, -1.60278659, -1.67819952])"
      ]
     },
     "execution_count": 23,
     "metadata": {},
     "output_type": "execute_result"
    }
   ],
   "source": [
    "# Determining the x & y line coefficients \n",
    "\n",
    "x_max = np.max(x)\n",
    "x_min = np.min(x) \n",
    "\n",
    "x_plot = np.linspace(x_max, x_min, length)\n",
    "y_plot = (slope * x_plot) + intercept "
   ]
  },
  {
   "cell_type": "code",
   "execution_count": 24,
   "id": "afc7b2f1-d9c5-4465-9a41-309f2a2aa3b6",
   "metadata": {},
   "outputs": [
    {
     "name": "stdout",
     "output_type": "stream",
     "text": [
      "RMSE 0.8698760692547319\n"
     ]
    }
   ],
   "source": [
    "# Evaluation by root mean square error method \n",
    "\n",
    "rmse = 0 \n",
    "\n",
    "for i in range(length): \n",
    "    y_predicted = slope * x[i] + intercept \n",
    "    rmse += (y[i] - y_predicted) ** 2\n",
    "\n",
    "rmse = np.sqrt(rmse/length) \n",
    "print(\"RMSE\", rmse)"
   ]
  },
  {
   "cell_type": "code",
   "execution_count": 25,
   "id": "8e51d922-8bd9-4e74-98cf-3cd4de03ee3b",
   "metadata": {},
   "outputs": [
    {
     "data": {
      "image/png": "[encoded data removed]",
      "text/plain": [
       "<Figure size 640x480 with 1 Axes>"
      ]
     },
     "metadata": {},
     "output_type": "display_data"
    }
   ],
   "source": [
    "# Plotting the regression line \n",
    "plt.plot(x_plot, y_plot, color=\"orange\", label = 'Regression Line')\n",
    "plt.scatter(x, y, color='black')\n",
    "plt.legend()\n",
    "plt.show()"
   ]
  },
  {
   "cell_type": "code",
   "execution_count": null,
   "id": "52ca83c8-38eb-4022-9881-80987b74afa1",
   "metadata": {},
   "outputs": [],
   "source": []
  }
 ],
 "metadata": {
  "kernelspec": {
   "display_name": "Python 3 (ipykernel)",
   "language": "python",
   "name": "python3"
  },
  "language_info": {
   "codemirror_mode": {
    "name": "ipython",
    "version": 3
   },
   "file_extension": ".py",
   "mimetype": "text/x-python",
   "name": "python",
   "nbconvert_exporter": "python",
   "pygments_lexer": "ipython3",
   "version": "3.10.12"
  }
 },
 "nbformat": 4,
 "nbformat_minor": 5
}
